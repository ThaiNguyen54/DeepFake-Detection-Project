{
 "cells": [
  {
   "cell_type": "code",
   "execution_count": 5,
   "id": "651e484c",
   "metadata": {},
   "outputs": [
    {
     "name": "stdout",
     "output_type": "stream",
     "text": [
      "[ 40592.44160347 123307.29144789  65030.91996659  63151.03701558\n",
      " 115787.75964385 108268.22783981 116727.70111936  64090.97849109\n",
      "  76310.21767265 100748.69603577]\n",
      "[ 37731 122391  57081  63218 116969 109431 112635  55794  83088 101302]\n"
     ]
    },
    {
     "data": {
      "image/png": "[encoded data removed]",
      "text/plain": [
       "<Figure size 432x288 with 1 Axes>"
      ]
     },
     "metadata": {
      "needs_background": "light"
     },
     "output_type": "display_data"
    },
    {
     "name": "stdout",
     "output_type": "stream",
     "text": [
      "This is training set: \n",
      "[ 2.9  5.1  3.2  4.5  8.2  6.8  1.3 10.5  3.   2.2  5.9  6.   3.7  3.2\n",
      "  9.   2.   1.1  7.1  4.9  4. ]\n",
      "Shape of training set is: (20,)\n"
     ]
    }
   ],
   "source": [
    "import numpy as np\n",
    "import pandas as pd\n",
    "from sklearn.model_selection import train_test_split\n",
    "import matplotlib.pyplot as plt\n",
    "\n",
    "class LinearRegression():\n",
    "    def __init__(self, learning_rate, number_of_iterations):\n",
    "        self.learning_rate = learning_rate\n",
    "        self.number_of_iterations = number_of_iterations\n",
    "    \n",
    "    def GradientDescent(self, X_train, y_train):\n",
    "        m_current = b_current = 0\n",
    "        n = len(X_train)\n",
    "        \n",
    "        for i in range(self.number_of_iterations):\n",
    "            y_predicted = m_current * X_train + b_current\n",
    "            cost_function = (1/n) * (sum(value**2 for value in (y_train - y_predicted)))\n",
    "            m_derivative = -(2/n)*sum(X_train*(y_train-y_predicted))\n",
    "            b_derivative = -(2/n)*sum(y_train-y_predicted)\n",
    "            m_current = m_current - (self.learning_rate * m_derivative)\n",
    "            b_current = b_current - (self.learning_rate * b_derivative)\n",
    "            #print('m: {}, b: {}, cost: {}, iterations: {}'.format(m_current, b_current, cost_function, i))\n",
    "        self.m_current = m_current\n",
    "        self.b_current = b_current\n",
    "    \n",
    "    def Predict(self, X_test):\n",
    "        LinearRegression.GradientDescent(self, self.X_train, self.y_train)\n",
    "        prediction = self.m_current * X_test + self.b_current\n",
    "        return prediction\n",
    "    \n",
    "    def Fit(self, X_train, y_train):\n",
    "        #return np.hstack((X_train, y_train.reshape(X_train.shape[0], 1)))\n",
    "        self.X_train = X_train\n",
    "        self.y_train = y_train\n",
    "     \n",
    "    \n",
    "        \n",
    "\n",
    "def main():\n",
    "    lr = LinearRegression(0.0001, 100000)\n",
    "    #lr.GradientDescent(X_train, y_train)\n",
    "    X_train = np.array([1,2,3,4,5])\n",
    "    y_train= np.array([5,7,9,11,13])\n",
    "    \n",
    "    Salary_DataFrame = pd.read_csv('D:\\Python Project\\Linear Regression\\salary_data.csv')\n",
    "    Salary_Array_X = np.array(Salary_DataFrame['YearsExperience'])\n",
    "    Salary_Array_y = np.array(Salary_DataFrame['Salary'])\n",
    "    X_train, X_test, y_train, y_test = train_test_split(Salary_Array_X, Salary_Array_y, test_size=0.33, random_state=0)\n",
    "    \n",
    "    lr.Fit(X_train, y_train)\n",
    "    prediction = lr.Predict(X_test)\n",
    "    print(prediction)\n",
    "    print(y_test)\n",
    "    \n",
    "    #Visualize the model\n",
    "    plt.scatter(X_test, y_test, color='red')\n",
    "    plt.plot(X_test, prediction, color='blue')\n",
    "    plt.xlabel('Work Experience')\n",
    "    plt.ylabel('Salary')\n",
    "    plt.title('Salary vs Experience')\n",
    "    plt.show()\n",
    "    \n",
    "    print('This is training set: \\n{}'.format(X_train))\n",
    "    print('Shape of training set is: {}'.format(X_train.shape))\n",
    "    \n",
    "main()"
   ]
  }
 ],
 "metadata": {
  "kernelspec": {
   "display_name": "Python 3 (ipykernel)",
   "language": "python",
   "name": "python3"
  },
  "language_info": {
   "codemirror_mode": {
    "name": "ipython",
    "version": 3
   },
   "file_extension": ".py",
   "mimetype": "text/x-python",
   "name": "python",
   "nbconvert_exporter": "python",
   "pygments_lexer": "ipython3",
   "version": "3.10.2"
  }
 },
 "nbformat": 4,
 "nbformat_minor": 5
}
